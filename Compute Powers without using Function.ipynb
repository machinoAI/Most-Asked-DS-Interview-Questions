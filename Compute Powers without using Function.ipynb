{
 "cells": [
  {
   "cell_type": "markdown",
   "id": "69e37471",
   "metadata": {},
   "source": [
    "### Question: Compute the n powers of given number without using any existing function like pow or even **?"
   ]
  },
  {
   "cell_type": "code",
   "execution_count": 5,
   "id": "9dea6f7f",
   "metadata": {},
   "outputs": [],
   "source": [
    "def compute_power(num, exp):\n",
    "    result =1\n",
    "    if exp == 0:\n",
    "        return 1\n",
    "    elif exp %2 == 0:\n",
    "        half_power = compute_power(num, exp//2)\n",
    "        return half_power*half_power\n",
    "    else:\n",
    "        return num * compute_power(num, exp-1)"
   ]
  },
  {
   "cell_type": "code",
   "execution_count": 13,
   "id": "d3394d81",
   "metadata": {},
   "outputs": [
    {
     "data": {
      "text/plain": [
       "27"
      ]
     },
     "execution_count": 13,
     "metadata": {},
     "output_type": "execute_result"
    }
   ],
   "source": [
    "compute_power(3, 3)"
   ]
  },
  {
   "cell_type": "code",
   "execution_count": 14,
   "id": "ba7fb8f3",
   "metadata": {},
   "outputs": [
    {
     "data": {
      "text/plain": [
       "27"
      ]
     },
     "execution_count": 14,
     "metadata": {},
     "output_type": "execute_result"
    }
   ],
   "source": [
    "pow(3,3)"
   ]
  },
  {
   "cell_type": "code",
   "execution_count": 16,
   "id": "e55915e0",
   "metadata": {},
   "outputs": [
    {
     "data": {
      "text/plain": [
       "27"
      ]
     },
     "execution_count": 16,
     "metadata": {},
     "output_type": "execute_result"
    }
   ],
   "source": [
    "3**3"
   ]
  },
  {
   "cell_type": "code",
   "execution_count": null,
   "id": "6510fdde",
   "metadata": {},
   "outputs": [],
   "source": []
  }
 ],
 "metadata": {
  "kernelspec": {
   "display_name": "Python 3 (ipykernel)",
   "language": "python",
   "name": "python3"
  },
  "language_info": {
   "codemirror_mode": {
    "name": "ipython",
    "version": 3
   },
   "file_extension": ".py",
   "mimetype": "text/x-python",
   "name": "python",
   "nbconvert_exporter": "python",
   "pygments_lexer": "ipython3",
   "version": "3.8.10"
  },
  "varInspector": {
   "cols": {
    "lenName": 16,
    "lenType": 16,
    "lenVar": 40
   },
   "kernels_config": {
    "python": {
     "delete_cmd_postfix": "",
     "delete_cmd_prefix": "del ",
     "library": "var_list.py",
     "varRefreshCmd": "print(var_dic_list())"
    },
    "r": {
     "delete_cmd_postfix": ") ",
     "delete_cmd_prefix": "rm(",
     "library": "var_list.r",
     "varRefreshCmd": "cat(var_dic_list()) "
    }
   },
   "types_to_exclude": [
    "module",
    "function",
    "builtin_function_or_method",
    "instance",
    "_Feature"
   ],
   "window_display": false
  }
 },
 "nbformat": 4,
 "nbformat_minor": 5
}
